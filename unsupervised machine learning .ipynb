{
 "cells": [
  {
   "cell_type": "code",
   "execution_count": 184,
   "metadata": {},
   "outputs": [],
   "source": [
    "import csv\n",
    "import numpy as np\n",
    "import matplotlib.pyplot as plt\n",
    "import pandas as pd"
   ]
  },
  {
   "cell_type": "code",
   "execution_count": null,
   "metadata": {},
   "outputs": [],
   "source": [
    "#1 June 28th, 2016     S&P 500: +1.78%\n",
    "#2 March 31th, 2017    S&P 500: -0.23%\n",
    "#3 April 7, 2017       S&P 500: -0.08%\n",
    "#4 July 19, 2017       S&P 500: +0.54%\n",
    "#5 Aug. 14, 2017       S&P 500: +1.00%\n",
    "#6 Jan. 17, 2018       S&P 500: +0.94%\n",
    "#7 Jan. 22, 2018       S&P 500: +0.81%\n",
    "#8 March 8, 2018       S&P 500: +0.45%\n",
    "#9 April 2, 2018       S&P 500: -2.23%\n",
    "#10 April 3, 2018       S&P 500: +1.26%\n",
    "#11 April 4, 2018       S&P 500: +1.16%\n",
    "#12 June 15, 2018       S&P 500: -0.10%\n",
    "#13 July 10, 2018       S&P 500: +0.35%\n",
    "#14 Aug. 1, 2018        S&P 500: -0.10%\n",
    "#15 Aug. 7, 2018        S&P 500: +0.28%\n",
    "#16 Aug. 23, 2018       S&P 500: -0.17%\n",
    "#17 Sept. 7, 2018       S&P 500: -0.22%\n",
    "#18 Sept. 24, 2018      S&P 500: -0.35%\n",
    "#19 Dec. 1, 2018        S&P 500: +1.09% \n",
    "#20 Feb. 24, 2019       S&P 500: +0.12% \n",
    "#21 May 5, 2019         S&P 500: -0.45% \n",
    "#22 May 8, 2019         S&P 500: -0.16%\n",
    "#23 June 18, 2019       S&P 500: +0.97%\n",
    "#24 June 29, 2019       S&P 500: +0.77% \n",
    "#25 Aug. 1, 2019        S&P 500: -0.90%\n",
    "#26 Aug. 13, 2019       S&P500:   +1.5%\n",
    "#27 Aug. 23, 2019       S&P 500: -0.1%\n",
    "#28 Sept. 20, 2019      S&P 500: -0.53%\n",
    "#29 Sept. 23, 2019      S&P 500: -0.01%\n",
    "#30 Oct. 7, 2019        S&P 500: -0.46%\n",
    "#31 Oct. 10, 2019       S&P 500 open: -0.066%\n",
    "\n"
   ]
  },
  {
   "cell_type": "code",
   "execution_count": 185,
   "metadata": {},
   "outputs": [],
   "source": [
    "data = pd.read_csv(\"1.csv\") \n",
    "price1=np.zeros(4779)\n",
    "price2=np.zeros(4779)"
   ]
  },
  {
   "cell_type": "code",
   "execution_count": 186,
   "metadata": {},
   "outputs": [],
   "source": [
    "price1=data['Price 6/27/2016'].values\n",
    "price2=data['Price 6/28/2016'].values"
   ]
  },
  {
   "cell_type": "code",
   "execution_count": 187,
   "metadata": {},
   "outputs": [],
   "source": [
    "pricechange=price2/price1-1 #%change "
   ]
  },
  {
   "cell_type": "code",
   "execution_count": 188,
   "metadata": {},
   "outputs": [],
   "source": [
    "pricechange.shape\n",
    "x=np.arange(4779)"
   ]
  },
  {
   "cell_type": "code",
   "execution_count": 189,
   "metadata": {},
   "outputs": [
    {
     "data": {
      "image/png": "[encoded data removed]",
      "text/plain": [
       "<matplotlib.figure.Figure at 0x2272b224400>"
      ]
     },
     "metadata": {},
     "output_type": "display_data"
    }
   ],
   "source": [
    "#1 June 28th, 2016     S&P 500: +1.78%\n",
    "\n",
    "plt.plot(x,pricechange)\n",
    "plt.ylim(-2,4)\n",
    "plt.show()"
   ]
  },
  {
   "cell_type": "code",
   "execution_count": 190,
   "metadata": {
    "scrolled": true
   },
   "outputs": [
    {
     "name": "stdout",
     "output_type": "stream",
     "text": [
      "337 11919.0\n",
      "585 27.363636363636363\n",
      "656 14.166666666666666\n",
      "724 49.0\n",
      "989 21.357142857142858\n",
      "1144 96.13513513513513\n",
      "2091 27474.0\n",
      "3460 7223.999999999999\n",
      "3483 2095.0\n",
      "3783 311.5\n",
      "4209 1086.5\n"
     ]
    }
   ],
   "source": [
    "for i in range(4779):\n",
    "    if pricechange[i]>10:\n",
    "        print(i,pricechange[i])\n",
    "        pricechange[i]=0"
   ]
  },
  {
   "cell_type": "code",
   "execution_count": 192,
   "metadata": {},
   "outputs": [
    {
     "data": {
      "image/png": "[encoded data removed]",
      "text/plain": [
       "<matplotlib.figure.Figure at 0x2272b224908>"
      ]
     },
     "metadata": {},
     "output_type": "display_data"
    }
   ],
   "source": [
    "plt.plot(x,pricechange)\n",
    "plt.ylim(-2,4)\n",
    "plt.show()"
   ]
  },
  {
   "cell_type": "code",
   "execution_count": 202,
   "metadata": {},
   "outputs": [
    {
     "name": "stdout",
     "output_type": "stream",
     "text": [
      "11.599351746128585\n"
     ]
    }
   ],
   "source": [
    "k=110  #100 clusters \n",
    "price3index=np.zeros((4779,2))  #2*4779 table \n",
    "center=(np.random.rand(k)-0.5)*0.1  #random choose centers \n",
    "total=0\n",
    "\n",
    "\n",
    "for j in range(100):     #iteration\n",
    "    for i in range(4779):\n",
    "        distance=np.abs(pricechange[i]-center)  #distance between each center to each point\n",
    "        price3index[i]=[np.argmin(distance),np.min(distance)]   #centroid and shortest distance\n",
    "    \n",
    "    count=np.zeros((k,2))\n",
    "    for i in range(4779):\n",
    "        count[int(price3index[i][0])][0]+=1  # each cluster has how many stocks\n",
    "        count[int(price3index[i][0])][1]+=pricechange[i]   #the total pricechange in each cluster\n",
    "    center=count[:,1]/(count[:,0]+1e-9)   #new center \n",
    "    \n",
    "for i in range(4779):\n",
    "    total=total+price3index[i][1] #shortest total distance of each point to its center point\n",
    "print(total)\n"
   ]
  },
  {
   "cell_type": "code",
   "execution_count": 210,
   "metadata": {},
   "outputs": [
    {
     "name": "stdout",
     "output_type": "stream",
     "text": [
      "40 16.352645097713157\n",
      "45 13.830564761910782\n",
      "50 13.497281509626447\n",
      "55 12.920597698950846\n",
      "60 12.826530092548591\n",
      "65 13.188594460483616\n",
      "70 12.95532543895322\n",
      "75 12.409547784465586\n",
      "80 11.933547091998586\n",
      "85 12.712021887547127\n",
      "90 11.720150965681265\n",
      "95 12.294300610761546\n",
      "100 11.803637487322925\n",
      "105 11.734939396501819\n",
      "110 11.281680219576703\n",
      "115 11.228011498784317\n",
      "120 11.097163247796683\n",
      "125 11.40576076063971\n",
      "130 11.621312544464184\n",
      "135 11.041820008535149\n",
      "140 11.01722346570083\n",
      "145 10.799015218447105\n"
     ]
    }
   ],
   "source": [
    "cluster_distance=[]\n",
    "clusters=[]\n",
    "for k in range(40,150,5): #try to find the elbow point \n",
    "    price3index=np.zeros((4779,2))  #2*4779 table \n",
    "    center=(np.random.rand(k)-0.5)*0.1  #random choose centers \n",
    "    total=0\n",
    "    for j in range(100):     #iteration\n",
    "        for i in range(4779):\n",
    "            distance=np.abs(pricechange[i]-center)  #distance between each center to each point\n",
    "            price3index[i]=[np.argmin(distance),np.min(distance)]   #index and shortest distance\n",
    "        count=np.zeros((k,2))\n",
    "        for i in range(4779):\n",
    "            count[int(price3index[i][0])][0]+=1\n",
    "            count[int(price3index[i][0])][1]+=pricechange[i]\n",
    "            center=count[:,1]/(count[:,0]+1e-9)\n",
    "\n",
    "    for i in range(4779):\n",
    "        total=total+price3index[i][1] #shortest total distance of each point to its center point\n",
    "    print(k,total)\n",
    "    cluster_distance.append(total)\n",
    "    clusters.append(k)\n",
    "\n"
   ]
  },
  {
   "cell_type": "code",
   "execution_count": 211,
   "metadata": {},
   "outputs": [
    {
     "data": {
      "image/png": "[encoded data removed]",
      "text/plain": [
       "<matplotlib.figure.Figure at 0x22729e4aa20>"
      ]
     },
     "metadata": {},
     "output_type": "display_data"
    }
   ],
   "source": [
    "x=clusters\n",
    "y=cluster_distance\n",
    "plt.plot(x, y,color='green', linestyle='dashed', linewidth = 3, \n",
    "         marker='o', markerfacecolor='blue', markersize=8) \n",
    "# naming the x axis \n",
    "plt.xlabel('Number of Clusters') \n",
    "# naming the y axis \n",
    "plt.ylabel('Sum Distance of Each Point to its Centroid') \n",
    "  \n",
    "# giving a title to my graph \n",
    "plt.title('Finding Elbow Point') \n",
    "  \n",
    "# function to show the plot \n",
    "plt.show()"
   ]
  },
  {
   "cell_type": "code",
   "execution_count": 205,
   "metadata": {},
   "outputs": [
    {
     "name": "stdout",
     "output_type": "stream",
     "text": [
      "40 14.823412827856584\n",
      "45 15.688744626851532\n",
      "50 14.430618583073953\n",
      "55 14.568484329368275\n",
      "60 13.049122767454545\n",
      "65 12.853073676473546\n",
      "70 13.033667774943007\n",
      "75 13.072403341650736\n",
      "80 12.686060976132724\n",
      "85 12.159805709514146\n",
      "90 11.983386072156758\n",
      "95 11.543574598350599\n",
      "100 11.560572111324719\n",
      "105 11.468433649431349\n",
      "110 11.555616327139374\n",
      "115 11.251965766916044\n",
      "120 11.268924527760598\n",
      "125 11.064332957813866\n",
      "130 10.975651314287049\n",
      "135 11.262144834176986\n",
      "140 10.77380889604661\n",
      "145 10.904358485945576\n"
     ]
    }
   ],
   "source": [
    "cluster_distance=[]\n",
    "clusters=[]\n",
    "for k in range(40,150,5): #try to find the elbow point \n",
    "    price3index=np.zeros((4779,2))  #2*4779 table \n",
    "    center=(np.random.rand(k)-0.5)*0.1  #random choose centers \n",
    "    total=0\n",
    "    for j in range(100):     #iteration\n",
    "        for i in range(4779):\n",
    "            distance=np.abs(pricechange[i]-center)  #distance between each center to each point\n",
    "            price3index[i]=[np.argmin(distance),np.min(distance)]   #index and shortest distance\n",
    "        count=np.zeros((k,2))\n",
    "        for i in range(4779):\n",
    "            count[int(price3index[i][0])][0]+=1\n",
    "            count[int(price3index[i][0])][1]+=pricechange[i]\n",
    "            center=count[:,1]/(count[:,0]+1e-9)\n",
    "\n",
    "    for i in range(4779):\n",
    "        total=total+price3index[i][1] #shortest total distance of each point to its center point\n",
    "    print(k,total)\n",
    "    cluster_distance.append(total)\n",
    "    clusters.append(k)"
   ]
  },
  {
   "cell_type": "code",
   "execution_count": 206,
   "metadata": {},
   "outputs": [
    {
     "data": {
      "image/png": "[encoded data removed]",
      "text/plain": [
       "<matplotlib.figure.Figure at 0x2272b1e96d8>"
      ]
     },
     "metadata": {},
     "output_type": "display_data"
    }
   ],
   "source": [
    "x=clusters\n",
    "y=cluster_distance\n",
    "plt.plot(x, y,color='green', linestyle='dashed', linewidth = 3, \n",
    "         marker='o', markerfacecolor='blue', markersize=8) \n",
    "plt.ylabel('cluster')\n",
    "# naming the x axis \n",
    "plt.xlabel('Number of Clusters') \n",
    "# naming the y axis \n",
    "plt.ylabel('Sum Distance of Each Point to its Centroid') \n",
    "  \n",
    "# giving a title to my graph \n",
    "plt.title('Finding Elbow Point') \n",
    "  \n",
    "# function to show the plot \n",
    "plt.show()\n"
   ]
  },
  {
   "cell_type": "code",
   "execution_count": null,
   "metadata": {},
   "outputs": [],
   "source": []
  }
 ],
 "metadata": {
  "kernelspec": {
   "display_name": "Python 3",
   "language": "python",
   "name": "python3"
  },
  "language_info": {
   "codemirror_mode": {
    "name": "ipython",
    "version": 3
   },
   "file_extension": ".py",
   "mimetype": "text/x-python",
   "name": "python",
   "nbconvert_exporter": "python",
   "pygments_lexer": "ipython3",
   "version": "3.6.4"
  }
 },
 "nbformat": 4,
 "nbformat_minor": 2
}
