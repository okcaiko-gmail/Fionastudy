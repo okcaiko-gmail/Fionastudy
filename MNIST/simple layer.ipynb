{
 "cells": [
  {
   "cell_type": "code",
   "execution_count": 1,
   "metadata": {},
   "outputs": [],
   "source": [
    "import numpy as np\n",
    "import matplotlib.pyplot as plt\n",
    "import gzip\n",
    "import imageio\n",
    "from cnn_func import *\n",
    "\n",
    "#tr_image有60000个图片，tr_label分别是这60000个图片对应的数字\n",
    "#te_image和te_label是测试组的10000个图片和数字\n",
    "\n",
    "tr_image, tr_label=train_set()\n",
    "te_image, te_label=test_set()\n"
   ]
  },
  {
   "cell_type": "code",
   "execution_count": 3,
   "metadata": {},
   "outputs": [
    {
     "data": {
      "image/png": "[encoded data removed]",
      "text/plain": [
       "<Figure size 432x288 with 2 Axes>"
      ]
     },
     "metadata": {
      "needs_background": "light"
     },
     "output_type": "display_data"
    },
    {
     "name": "stdout",
     "output_type": "stream",
     "text": [
      "5.0\n"
     ]
    }
   ],
   "source": [
    "#第一个数字是5\n",
    "\n",
    "plt.imshow(tr_image[0])\n",
    "plt.colorbar()\n",
    "plt.show()\n",
    "\n",
    "print(tr_label[0])"
   ]
  },
  {
   "cell_type": "code",
   "execution_count": null,
   "metadata": {},
   "outputs": [],
   "source": [
    "#1.每个图片是28*28的大小，请你建立一个随机的系数数组（要求是1维数组），让这个随机的系数组的每一个数乘以图片的每一个像素的值，求和得到一个数"
   ]
  },
  {
   "cell_type": "code",
   "execution_count": null,
   "metadata": {},
   "outputs": [],
   "source": [
    "#2.跟之上相似，但是这次不要得到一个数，要得到2个不同的数，而且这俩个数放到一个数组里，[x,y]"
   ]
  },
  {
   "cell_type": "code",
   "execution_count": null,
   "metadata": {},
   "outputs": [],
   "source": [
    "#2.跟之上相似，但是要求你得到10个数，也就是一个（10维数组）"
   ]
  }
 ],
 "metadata": {
  "kernelspec": {
   "display_name": "Python 3",
   "language": "python",
   "name": "python3"
  },
  "language_info": {
   "codemirror_mode": {
    "name": "ipython",
    "version": 3
   },
   "file_extension": ".py",
   "mimetype": "text/x-python",
   "name": "python",
   "nbconvert_exporter": "python",
   "pygments_lexer": "ipython3",
   "version": "3.8.2"
  }
 },
 "nbformat": 4,
 "nbformat_minor": 2
}
